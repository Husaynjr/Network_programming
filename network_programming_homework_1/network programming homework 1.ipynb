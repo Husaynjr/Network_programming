{
 "cells": [
  {
   "cell_type": "code",
   "execution_count": 1,
   "id": "c933c059",
   "metadata": {},
   "outputs": [
    {
     "name": "stdout",
     "output_type": "stream",
     "text": [
      "{'HTTP': 80, 'HTTPS': 443, 'FTP': 20, 'DNS': 53}\n"
     ]
    }
   ],
   "source": [
    "l1=['HTTP','HTTPS','FTP','DNS']\n",
    "l2=[80,443,20,53]\n",
    "d={l1[i]:l2[i] for i in range(len(l1))}\n",
    "print(d)"
   ]
  },
  {
   "cell_type": "code",
   "execution_count": 2,
   "id": "666ba0d6",
   "metadata": {},
   "outputs": [
    {
     "name": "stdout",
     "output_type": "stream",
     "text": [
      "[1, 2, 3, 5, 7, 11, 13, 17, 19, 23, 29, 31, 37, 41, 43, 47, 53, 59, 61, 67, 71, 73, 79, 83, 89, 97, 101, 103, 107, 109, 113, 127, 131, 137, 139, 149, 151, 157, 163, 167, 173, 179, 181, 191, 193, 197, 199, 211, 223, 227, 229, 233, 239, 241, 251, 257, 263, 269, 271, 277, 281, 283, 293, 307, 311, 313, 317, 331, 337, 347, 349, 353, 359, 367, 373, 379, 383, 389, 397, 401, 409, 419, 421, 431, 433, 439, 443, 449, 457, 461, 463, 467, 479, 487, 491, 499, 503, 509, 521, 523, 541, 547, 557, 563, 569, 571, 577, 587, 593, 599, 601, 607, 613, 617, 619, 631, 641, 643, 647, 653, 659, 661, 673, 677, 683, 691, 701, 709, 719, 727, 733, 739, 743, 751, 757, 761, 769, 773, 787, 797, 809, 811, 821, 823, 827, 829, 839, 853, 857, 859, 863, 877, 881, 883, 887, 907, 911, 919, 929, 937, 941, 947, 953, 967, 971, 977, 983, 991, 997]\n"
     ]
    }
   ],
   "source": [
    "def is_prime(num):\n",
    "    for i in range (2,num):\n",
    "        if num%i ==0 :\n",
    "            return False\n",
    "    return True\n",
    "\n",
    "primary_list = [x for x in range (1,1001) if is_prime(x)]\n",
    "print (primary_list)"
   ]
  },
  {
   "cell_type": "code",
   "execution_count": 3,
   "id": "dcf0946e",
   "metadata": {
    "scrolled": true
   },
   "outputs": [
    {
     "name": "stdout",
     "output_type": "stream",
     "text": [
      "Physics\n"
     ]
    }
   ],
   "source": [
    "L = ['Network', 'Math', 'Programming', 'Physics', 'Music']\n",
    "for i in range (0,len(L)):\n",
    "    if L[i].startswith('Ph') :\n",
    "        print(L[i])"
   ]
  },
  {
   "cell_type": "code",
   "execution_count": 4,
   "id": "67162ce4",
   "metadata": {},
   "outputs": [
    {
     "name": "stdout",
     "output_type": "stream",
     "text": [
      "{1: 2, 2: 3, 3: 4, 4: 5, 5: 6, 6: 7, 7: 8, 8: 9, 9: 10, 10: 11}\n"
     ]
    }
   ],
   "source": [
    "d= {key:key+1 for key in range (1,11)}\n",
    "print(d)"
   ]
  },
  {
   "cell_type": "code",
   "execution_count": 1,
   "id": "53e2166b",
   "metadata": {},
   "outputs": [
    {
     "name": "stdout",
     "output_type": "stream",
     "text": [
      "enter the binary number : 10011\n",
      "the decimal value is 19\n"
     ]
    }
   ],
   "source": [
    "try :\n",
    "    x = int(input(\"enter the binary number : \"),base=2)\n",
    "    print (f\"the decimal value is {x}\")\n",
    "except:\n",
    "    print(\"inserted values should contain only ones and zeroes\")"
   ]
  },
  {
   "cell_type": "code",
   "execution_count": null,
   "id": "1999ed6c",
   "metadata": {},
   "outputs": [],
   "source": [
    "import json\n",
    "grade = 0\n",
    "with open(\"Questions.json\",\"r\") as file:\n",
    "    d = json.load(file)\n",
    "    \n",
    "user_name = input(\"please enter your name first : \")\n",
    "for i in range(1,21):\n",
    "    answer = input(f\"{i} : {d[str(i)][0]} : \")\n",
    "    if answer == d[str(i)][1]:\n",
    "        grade += 1\n",
    "print(f\"the deserved grade is {grade}\")\n",
    "try :\n",
    "    with open(r\"grades.txt\",'a') as file:\n",
    "        file.write(user_name+\" : \"+str(grade)+\"\\n\")\n",
    "except:\n",
    "    with open(r\"grades.txt\",\"w\") as file:\n",
    "        file.write(user_name+\" : \"+str(grade)+\"\\n\")"
   ]
  }
 ],
 "metadata": {
  "kernelspec": {
   "display_name": "Python 3 (ipykernel)",
   "language": "python",
   "name": "python3"
  },
  "language_info": {
   "codemirror_mode": {
    "name": "ipython",
    "version": 3
   },
   "file_extension": ".py",
   "mimetype": "text/x-python",
   "name": "python",
   "nbconvert_exporter": "python",
   "pygments_lexer": "ipython3",
   "version": "3.9.7"
  }
 },
 "nbformat": 4,
 "nbformat_minor": 5
}
